{
 "cells": [
  {
   "cell_type": "code",
   "execution_count": null,
   "metadata": {},
   "outputs": [],
   "source": [
    "BASE_DIR = \"/workspaces/web_translate_project\"\n",
    "import sys\n",
    "sys.path.append(BASE_DIR+\"/src\")\n",
    "\n",
    "from utils import translate_html\n",
    "\n",
    "\n",
    "html_path = BASE_DIR + \"/data/test_html/test2.html\"\n",
    "with open(html_path, \"r\") as f:\n",
    "    html = f.read()\n",
    "\n",
    "translated_html = translate_html(html,class_name=\"markdown-body\")"
   ]
  },
  {
   "cell_type": "code",
   "execution_count": null,
   "metadata": {},
   "outputs": [],
   "source": [
    "#/workspaces/web_translate_project/data/test_html/test2_translated.htmlへ保存\n",
    "\n",
    "with open(html_path.replace(\".html\",\"_translated.html\"), \"w\") as f:\n",
    "    f.write(translated_html)"
   ]
  },
  {
   "cell_type": "code",
   "execution_count": null,
   "metadata": {},
   "outputs": [],
   "source": [
    "html_path = BASE_DIR + \"/data/test_html/test3.html\"\n",
    "with open(html_path, \"r\") as f:\n",
    "    html = f.read()\n",
    "\n",
    "translated_html = translate_html(html,class_name=\"markdown-body\")\n",
    "\n",
    "with open(html_path.replace(\".html\",\"_translated.html\"), \"w\") as f:\n",
    "    f.write(translated_html)"
   ]
  },
  {
   "cell_type": "code",
   "execution_count": null,
   "metadata": {},
   "outputs": [],
   "source": []
  }
 ],
 "metadata": {
  "kernelspec": {
   "display_name": "web-translate-projiect-BPEq5NAz-py3.10",
   "language": "python",
   "name": "python3"
  },
  "language_info": {
   "codemirror_mode": {
    "name": "ipython",
    "version": 3
   },
   "file_extension": ".py",
   "mimetype": "text/x-python",
   "name": "python",
   "nbconvert_exporter": "python",
   "pygments_lexer": "ipython3",
   "version": "3.10.15"
  }
 },
 "nbformat": 4,
 "nbformat_minor": 2
}
